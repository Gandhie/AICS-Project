{
 "cells": [
  {
   "cell_type": "code",
   "execution_count": 3,
   "metadata": {},
   "outputs": [
    {
     "name": "stdout",
     "output_type": "stream",
     "text": [
      "ln: failed to create symbolic link 'data/data': File exists\r\n"
     ]
    }
   ],
   "source": [
    "! ln -s /usr/local/courses/lt2318/data/ data"
   ]
  },
  {
   "cell_type": "code",
   "execution_count": 4,
   "metadata": {},
   "outputs": [
    {
     "name": "stdout",
     "output_type": "stream",
     "text": [
      "image_data.json      objects.pickle\t       VG_100K\r\n",
      "image_data.json.zip  read_objects_resnet50.py  VG_100K_2\r\n",
      "images2.zip\t     relationships.json\r\n",
      "images.zip\t     relationships.json.zip\r\n"
     ]
    }
   ],
   "source": [
    "! ls data/visual_genome/"
   ]
  },
  {
   "cell_type": "code",
   "execution_count": 5,
   "metadata": {},
   "outputs": [],
   "source": [
    "import json\n",
    "from collections import Counter, defaultdict\n",
    "import numpy as np\n",
    "import pickle\n",
    "\n",
    "%matplotlib inline\n",
    "from matplotlib import pyplot as plt"
   ]
  },
  {
   "cell_type": "code",
   "execution_count": 6,
   "metadata": {},
   "outputs": [],
   "source": [
    "# read from file\n",
    "relationships_from_file = json.load(open('data/visual_genome/relationships.json'))\n",
    "\n",
    "# name/names correction for reading content of nodes in the dataset\n",
    "name_extract = lambda x: x['names'][0].lower() if 'names' in x and len(x['names']) else x['name'].lower() if 'name' in x else '' "
   ]
  },
  {
   "cell_type": "code",
   "execution_count": 7,
   "metadata": {},
   "outputs": [
    {
     "name": "stdout",
     "output_type": "stream",
     "text": [
      "number of images: 108077\n"
     ]
    }
   ],
   "source": [
    "print('number of images:', len(relationships_from_file))"
   ]
  },
  {
   "cell_type": "code",
   "execution_count": 8,
   "metadata": {},
   "outputs": [],
   "source": [
    "image_data_from_file = json.load(open('data/visual_genome/image_data.json'))\n",
    "image_id_to_size = {\n",
    "    image_data['image_id']: (image_data['width'], image_data['height'])\n",
    "    for image_data in image_data_from_file\n",
    "}"
   ]
  },
  {
   "cell_type": "code",
   "execution_count": 9,
   "metadata": {},
   "outputs": [],
   "source": [
    "# Functions for getting descriptions (relations) and bounding boxes (which are normalised by image size in the process).\n",
    "def get_description(relations_data):\n",
    "    triplet = (\n",
    "        name_extract(relation_data['subject']),\n",
    "        relation_data['predicate'].lower(), # synset?\n",
    "        name_extract(relation_data['object']),\n",
    "    )\n",
    "    \n",
    "    return triplet\n",
    "\n",
    "def get_bboxes(relations_data, size):\n",
    "    w0, h0 = size\n",
    "    def normalize(bbox):\n",
    "        x, y, w, h = bbox\n",
    "        return (x/w0, y/h0, w/w0, h/h0, )\n",
    "    \n",
    "    bboxes = (\n",
    "        normalize([relation_data['subject'][d] for d in ['x', 'y', 'w', 'h', ]]),\n",
    "        normalize([relation_data['object'][d] for d in ['x', 'y', 'w', 'h', ]]),\n",
    "    )\n",
    "    \n",
    "    return bboxes"
   ]
  },
  {
   "cell_type": "code",
   "execution_count": 10,
   "metadata": {},
   "outputs": [],
   "source": [
    "prepositions = ['over', 'above', 'below', 'under', 'on', 'in', 'right of', 'left of']"
   ]
  },
  {
   "cell_type": "code",
   "execution_count": 11,
   "metadata": {},
   "outputs": [],
   "source": [
    "# Loading visual data.\n",
    "with open('/usr/local/courses/lt2318/data/visual_genome/objects.pickle', 'rb') as f:\n",
    "    visual_features = pickle.load(f)"
   ]
  },
  {
   "cell_type": "code",
   "execution_count": 12,
   "metadata": {},
   "outputs": [],
   "source": [
    "# Function for getting the visual feature vectors from the previous loaded file based on the object_id of the subject and object in a relation.\n",
    "def get_vis_vecs(relations_data, vis_features):\n",
    "    subid = relations_data['subject']['object_id']\n",
    "    objid = relations_data['object']['object_id']\n",
    "    \n",
    "    try:\n",
    "        target_vf = vis_features[subid]\n",
    "    except KeyError:\n",
    "        target_vf = None\n",
    "    try:\n",
    "        landmark_vf = vis_features[objid]\n",
    "    except KeyError:\n",
    "        landmark_vf = None\n",
    "                \n",
    "    return target_vf, landmark_vf"
   ]
  },
  {
   "cell_type": "code",
   "execution_count": 13,
   "metadata": {},
   "outputs": [],
   "source": [
    "# Creating a dictionary which contains another dictionary for each preposition, which contains two lists - one for targets and one for landmarks.\n",
    "prep_vis_feat = {\n",
    "    p: {}\n",
    "    for p in prepositions\n",
    "}\n",
    "\n",
    "for p in prep_vis_feat:\n",
    "    prep_vis_feat[p]['target'] = []\n",
    "    prep_vis_feat[p]['landmark'] = []\n",
    "\n",
    "# Gets visual feature vectors for relations if their predicate is one of the prepositions in question.\n",
    "# Also checks that there are both target and landmark for each relation, and only keeps the ones that have the full pairs.\n",
    "# This was to deal with the fact that I was initially getting different numbers of targets and landmarks.\n",
    "for img_relations in relationships_from_file:\n",
    "    for relation_data in img_relations['relationships']:\n",
    "        _, p, _ = get_description(relation_data)\n",
    "        \n",
    "        if p in prep_vis_feat:\n",
    "            target_vf, landmark_vf = get_vis_vecs(relation_data, visual_features)\n",
    "            \n",
    "            if target_vf is not None and landmark_vf is not None:\n",
    "                prep_vis_feat[p]['target'].append(target_vf)\n",
    "                prep_vis_feat[p]['landmark'].append(landmark_vf)\n",
    "            else:\n",
    "                pass"
   ]
  },
  {
   "cell_type": "code",
   "execution_count": 14,
   "metadata": {},
   "outputs": [
    {
     "name": "stdout",
     "output_type": "stream",
     "text": [
      "over 8200 8200\n",
      "above 12583 12583\n",
      "below 3155 3155\n",
      "under 16985 16985\n",
      "on 544509 544509\n",
      "in 183951 183951\n",
      "right of 220 220\n",
      "left of 365 365\n"
     ]
    }
   ],
   "source": [
    "for p in prep_vis_feat:\n",
    "    print(p, len(prep_vis_feat[p][\"target\"]), len(prep_vis_feat[p][\"landmark\"]))"
   ]
  },
  {
   "cell_type": "code",
   "execution_count": 15,
   "metadata": {},
   "outputs": [],
   "source": [
    "# Saves the dictionary containing all of the visual feature vectors divided by targets and landmark by preposition to file.\n",
    "with open('pvis_vecs.pkl', 'wb') as sf:\n",
    "    pickle.dump(prep_vis_feat, sf)"
   ]
  },
  {
   "cell_type": "code",
   "execution_count": 16,
   "metadata": {},
   "outputs": [
    {
     "data": {
      "text/plain": [
       "(2048,)"
      ]
     },
     "execution_count": 16,
     "metadata": {},
     "output_type": "execute_result"
    }
   ],
   "source": [
    "type(prep_vis_feat[p][\"target\"])\n",
    "prep_vis_feat[p][\"target\"][0].shape"
   ]
  },
  {
   "cell_type": "code",
   "execution_count": 35,
   "metadata": {},
   "outputs": [
    {
     "name": "stdout",
     "output_type": "stream",
     "text": [
      "[0.53191054 0.53470176 0.30310673 ... 1.0023298  0.         1.2908782 ] (2048,)\n",
      "[0.127356   0.16918519 0.20135735 ... 0.8276626  0.         0.3897869 ] (2048,)\n",
      "[0.         0.37064752 0.         ... 0.8056022  0.00893039 0.05825645]\n",
      "[1.0312723e-01 6.0286057e-01 0.0000000e+00 ... 7.3783174e-02 4.8108550e-04\n",
      " 0.0000000e+00]\n",
      "[0.53191054 0.90534925 0.30310673 ... 1.807932   0.00893039 1.3491347 ] (2048,)\n",
      "[2.3048323e-01 7.7204573e-01 2.0135735e-01 ... 9.0144575e-01 4.8108550e-04\n",
      " 3.8978690e-01] (2048,)\n",
      "Done with: over\n",
      "[0.00050545 0.45223147 0.4421402  ... 0.29909486 0.39411917 0.29974324] (2048,)\n",
      "[0.         0.52970886 0.22222234 ... 0.15910697 0.41383415 0.12658107] (2048,)\n",
      "[1.3598702e-03 1.8180501e+00 2.2492766e-01 ... 1.4745821e-01 3.4083164e-01\n",
      " 4.9154139e-01]\n",
      "[0.07877858 1.6007465  0.         ... 0.15136574 0.6895241  0.13171735]\n",
      "[1.8653248e-03 2.2702816e+00 6.6706789e-01 ... 4.4655305e-01 7.3495078e-01\n",
      " 7.9128462e-01] (2048,)\n",
      "[0.07877858 2.1304555  0.22222234 ... 0.31047273 1.1033583  0.25829843] (2048,)\n",
      "Done with: above\n",
      "[0.20408772 0.02003815 0.03361771 ... 0.09835843 0.42868662 0.0193665 ] (2048,)\n",
      "[0.09161656 0.00444503 0.0223004  ... 0.08128307 0.57121027 0.4626666 ] (2048,)\n",
      "[0.01050269 0.02343335 0.05028636 ... 0.0924724  0.11314796 1.0212276 ]\n",
      "[0.         1.1241045  0.11198989 ... 0.6066571  0.14718442 0.40526444]\n",
      "[0.21459042 0.0434715  0.08390407 ... 0.19083083 0.5418346  1.0405941 ] (2048,)\n",
      "[0.09161656 1.1285496  0.13429028 ... 0.6879402  0.7183947  0.867931  ] (2048,)\n",
      "Done with: below\n",
      "[0.09430321 0.00644255 0.0672399  ... 0.7363551  0.45247284 0.4832066 ] (2048,)\n",
      "[0.         0.06745303 0.09836853 ... 2.5983663  0.1883448  2.0949252 ] (2048,)\n",
      "[0.09430321 0.00644255 0.0672399  ... 0.7363551  0.45247284 0.4832066 ]\n",
      "[0.         0.01851872 0.08565482 ... 2.6809516  0.25738785 2.02926   ]\n",
      "[0.18860641 0.0128851  0.13447979 ... 1.4727103  0.9049457  0.9664132 ] (2048,)\n",
      "[0.         0.08597174 0.18402335 ... 5.279318   0.44573265 4.124185  ] (2048,)\n",
      "Done with: under\n",
      "[0.07128239 0.24499595 0.12513943 ... 1.0357819  0.5428534  0.46486905] (2048,)\n",
      "[0.08887338 0.7285518  0.         ... 0.42225635 0.40336746 0.18071619] (2048,)\n",
      "[0.         0.4443247  0.11289596 ... 0.16652748 0.01378508 0.        ]\n",
      "[0.03269582 0.5530603  0.         ... 0.52981585 0.26995978 0.10360361]\n",
      "[0.07128239 0.6893207  0.23803538 ... 1.2023094  0.5566385  0.46486905] (2048,)\n",
      "[0.1215692 1.2816122 0.        ... 0.9520722 0.6733272 0.2843198] (2048,)\n",
      "Done with: on\n",
      "[0.3362989  0.5943115  0.00250794 ... 0.9031364  1.034404   0.28802067] (2048,)\n",
      "[0.82303464 1.0345262  0.0610964  ... 0.21030332 1.3070273  1.4252125 ] (2048,)\n",
      "[0.40279296 0.1418915  0.06585126 ... 3.0319695  1.516657   0.17012374]\n",
      "[0.         0.16911957 0.37875456 ... 1.0352782  0.02222187 0.22310679]\n",
      "[0.7390919  0.73620296 0.0683592  ... 3.9351058  2.5510612  0.45814443] (2048,)\n",
      "[0.82303464 1.2036458  0.43985096 ... 1.2455815  1.3292493  1.6483192 ] (2048,)\n",
      "Done with: in\n",
      "[0.         0.12650031 0.01262962 ... 1.8137014  2.9125288  0.16192476] (2048,)\n",
      "[0.03982678 0.02466927 0.03659779 ... 0.08290424 0.12191638 2.352996  ] (2048,)\n",
      "[0.7692205  0.4118141  0.0982303  ... 0.5209313  3.0275118  0.03517892]\n",
      "[0.31100023 0.11545174 0.05144256 ... 2.690228   2.162628   0.        ]\n",
      "[0.7692205  0.5383144  0.11085992 ... 2.3346326  5.9400406  0.19710368] (2048,)\n",
      "[0.350827   0.14012101 0.08804035 ... 2.7731323  2.2845442  2.352996  ] (2048,)\n",
      "Done with: right of\n",
      "[0.02819322 1.0394642  0.31946352 ... 0.7482397  0.00510262 0.41481328] (2048,)\n",
      "[0.12459236 3.4414704  0.4057181  ... 0.6894023  0.8740524  0.8142588 ] (2048,)\n",
      "[0.         0.07970613 0.05760424 ... 0.608961   0.00879411 0.10934374]\n",
      "[0.00733936 0.         0.01781377 ... 0.0742542  0.0039116  0.08013661]\n",
      "[0.02819322 1.1191704  0.37706774 ... 1.3572006  0.01389673 0.52415705] (2048,)\n",
      "[0.1319317  3.4414704  0.42353186 ... 0.7636565  0.877964   0.8943954 ] (2048,)\n",
      "Done with: left of\n",
      "2\n"
     ]
    }
   ],
   "source": [
    "# Takes all target and landmark vectors from prep_vis_feat. Sets a variable to the first vector of each set\n",
    "# and then adds them together (one addition version and one append version currently). \n",
    "prep_sum_dict = {\n",
    "    p: {}\n",
    "    for p in prepositions\n",
    "}\n",
    "\n",
    "for p in prep_vis_feat:\n",
    "    targ_vecs = prep_vis_feat[p]['target']\n",
    "    landm_vecs = prep_vis_feat[p]['landmark']\n",
    "    \n",
    "    targets = targ_vecs[0]\n",
    "    landmarks = landm_vecs[0]\n",
    "    \n",
    "    print(targets, targets.shape)\n",
    "    print(landmarks, landmarks.shape)\n",
    "    \n",
    "    # Addition version, where dimension (2048) remains the same.\n",
    "    # Change indexing to [1:] when running fully.\n",
    "    for tvec in targ_vecs[1:2]:\n",
    "        print(tvec)\n",
    "        targets = targets + tvec\n",
    "        \n",
    "    for lvec in landm_vecs[1:2]:\n",
    "        print(lvec)\n",
    "        landmarks = landmarks + lvec\n",
    "        \n",
    "    print(targets, targets.shape)\n",
    "    print(landmarks, landmarks.shape)\n",
    "    \n",
    "    # Append version, where vectors are just appended on each other and become super long (2048, 4096, 6144...).\n",
    "    # Change indexing to [1:] when running fully.\n",
    "    '''for tvec in targ_vecs[1:2]:\n",
    "        targets = np.append(targets, tvec)\n",
    "        \n",
    "    for lvec in landm_vecs[1:2]:\n",
    "        landmarks = np.append(landmarks, lvec)\n",
    "        \n",
    "    print(targets, targets.shape)\n",
    "    print(landmarks, landmarks.shape)'''\n",
    " \n",
    "    #Save summed vectors to a dictionary that has a dict entry for each preposition. Put the target one under target and the landmark one under landmark.\n",
    "    prep_sum_dict[p]['target'] = targets\n",
    "    prep_sum_dict[p]['landmark'] = landmarks\n",
    "\n",
    "    '''#Might not need to save to file, this stuff is not exponential like the previous work.\n",
    "    lst_filename = p + \"_what_dict.pkl\"\n",
    "\n",
    "    with open(lst_filename, 'wb') as outfile:\n",
    "        pickle.dump(prep_cos_dict, outfile, pickle.HIGHEST_PROTOCOL)'''\n",
    "\n",
    "    # Progress indication print.\n",
    "    print(\"Done with:\", p)"
   ]
  },
  {
   "cell_type": "code",
   "execution_count": 22,
   "metadata": {},
   "outputs": [
    {
     "data": {
      "text/plain": [
       "array([ 0,  2,  4,  6,  8, 10, 12, 14])"
      ]
     },
     "execution_count": 22,
     "metadata": {},
     "output_type": "execute_result"
    }
   ],
   "source": [
    "from scipy.spatial.distance import cosine\n",
    "\n",
    "# Takes summed vectors and compares every single vector to the summed vector (cosine distance, targets and landmarks separately).\n",
    "# Saves the lists of cosine distances to a dictionary.\n",
    "prep_cos_dict = {\n",
    "    p: {}\n",
    "    for p in prepositions\n",
    "}\n",
    "\n",
    "for p in prep_vis_feat:\n",
    "    targ_vecs = prep_vis_feat[p]['target']\n",
    "    landm_vecs = prep_vis_feat[p]['landmark']\n",
    "    \n",
    "    targets = prep_sum_dict[p]['target']\n",
    "    landmarks = prep_sum_dict[p]['landmark']\n",
    "    \n",
    "    targ_cos_list = [cosine(targ_vec, targets) for targ_vec in targ_vecs]\n",
    "    prep_cos_dict[p]['target'] = targ_cos_list\n",
    "    \n",
    "    landm_cos_list = [cosine(landm_vec, landmarks) for landm_vec in landm_vecs]\n",
    "    prep_cos_dict[p]['landmark'] = landm_cos_list\n",
    "    \n",
    "    print(\"Done with\", p)"
   ]
  },
  {
   "cell_type": "code",
   "execution_count": null,
   "metadata": {},
   "outputs": [],
   "source": [
    "for p in prep_cos_dict:\n",
    "    avg_targ_dist = np.mean(prep_cos_dict[p]['target'])\n",
    "    avg_landm_dist = np.mean(prep_cos_dict[p]['landmark'])\n",
    "    \n",
    "    print(p + \":\")\n",
    "    print(\"Avg Cosine Distance:\")\n",
    "    print('Targets:', avg_targ_dist)\n",
    "    print('Landmarks:', avg_landm_dist)"
   ]
  }
 ],
 "metadata": {
  "kernelspec": {
   "display_name": "Python 3",
   "language": "python",
   "name": "python3"
  },
  "language_info": {
   "codemirror_mode": {
    "name": "ipython",
    "version": 3
   },
   "file_extension": ".py",
   "mimetype": "text/x-python",
   "name": "python",
   "nbconvert_exporter": "python",
   "pygments_lexer": "ipython3",
   "version": "3.6.6"
  }
 },
 "nbformat": 4,
 "nbformat_minor": 2
}
